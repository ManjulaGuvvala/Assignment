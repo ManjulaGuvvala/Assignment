{
 "cells": [
  {
   "cell_type": "markdown",
   "id": "34151e06",
   "metadata": {},
   "source": [
    "# My Jupyter Notebook on IBM Watson Studio\n",
    "### Manjula Guvvala\n",
    "\n",
    "Data Scientist\n",
    "\n",
    "\n",
    "*I am interested in data science because i love to work on data*"
   ]
  },
  {
   "cell_type": "markdown",
   "id": "17ec9dad",
   "metadata": {},
   "source": [
    "### The following code prints Hello World\n"
   ]
  },
  {
   "cell_type": "code",
   "execution_count": 2,
   "id": "0fe33249",
   "metadata": {},
   "outputs": [
    {
     "name": "stdout",
     "output_type": "stream",
     "text": [
      "Hello World\n"
     ]
    }
   ],
   "source": [
    "print(\"Hello World\")"
   ]
  },
  {
   "cell_type": "markdown",
   "id": "f0a4fc8a",
   "metadata": {},
   "source": [
    "* Python\n",
    "* SQL\n",
    "* R"
   ]
  },
  {
   "cell_type": "markdown",
   "id": "dd1b9a54",
   "metadata": {},
   "source": [
    "1.Python\n",
    "\n",
    "2.SQL\n",
    "\n",
    "3.R"
   ]
  },
  {
   "cell_type": "markdown",
   "id": "26345fd3",
   "metadata": {},
   "source": [
    "https://www.wikipedia.org/"
   ]
  },
  {
   "cell_type": "code",
   "execution_count": null,
   "id": "96e1c4f0",
   "metadata": {},
   "outputs": [],
   "source": []
  }
 ],
 "metadata": {
  "kernelspec": {
   "display_name": "Python 3 (ipykernel)",
   "language": "python",
   "name": "python3"
  },
  "language_info": {
   "codemirror_mode": {
    "name": "ipython",
    "version": 3
   },
   "file_extension": ".py",
   "mimetype": "text/x-python",
   "name": "python",
   "nbconvert_exporter": "python",
   "pygments_lexer": "ipython3",
   "version": "3.9.7"
  }
 },
 "nbformat": 4,
 "nbformat_minor": 5
}
